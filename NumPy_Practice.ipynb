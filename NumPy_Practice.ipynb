{
  "nbformat": 4,
  "nbformat_minor": 0,
  "metadata": {
    "colab": {
      "provenance": [],
      "include_colab_link": true
    },
    "kernelspec": {
      "name": "python3",
      "display_name": "Python 3"
    },
    "language_info": {
      "name": "python"
    }
  },
  "cells": [
    {
      "cell_type": "markdown",
      "metadata": {
        "id": "view-in-github",
        "colab_type": "text"
      },
      "source": [
        "<a href=\"https://colab.research.google.com/github/Adeeba-Tahir/Numpy_Practice-/blob/main/NumPy_Practice.ipynb\" target=\"_parent\"><img src=\"https://colab.research.google.com/assets/colab-badge.svg\" alt=\"Open In Colab\"/></a>"
      ]
    },
    {
      "cell_type": "code",
      "source": [
        "import numpy as np"
      ],
      "metadata": {
        "id": "-J4F1ysN4mLk"
      },
      "execution_count": 44,
      "outputs": []
    },
    {
      "cell_type": "markdown",
      "source": [
        "###`Q-1` Create a null vector of size 10 but the fifth value which is 1.\n",
        "\n"
      ],
      "metadata": {
        "id": "a_K8IH-C6HDK"
      }
    },
    {
      "cell_type": "code",
      "source": [
        "np.shape"
      ],
      "metadata": {
        "colab": {
          "base_uri": "https://localhost:8080/"
        },
        "id": "6MKMYzwHmk-U",
        "outputId": "ea72c260-b275-449e-8da8-67a7d5e2e523"
      },
      "execution_count": 45,
      "outputs": [
        {
          "output_type": "execute_result",
          "data": {
            "text/plain": [
              "<function shape at 0x7ba1cfe2fbb0>"
            ]
          },
          "metadata": {},
          "execution_count": 45
        }
      ]
    },
    {
      "cell_type": "code",
      "source": [
        "a = np.zeros(10)\n",
        "a[4] = 1\n",
        "a"
      ],
      "metadata": {
        "colab": {
          "base_uri": "https://localhost:8080/"
        },
        "id": "lO8yL8VfVmjr",
        "outputId": "0ae75aa9-3f91-43b0-c3d9-f8ad40e2bb32"
      },
      "execution_count": 46,
      "outputs": [
        {
          "output_type": "execute_result",
          "data": {
            "text/plain": [
              "array([0., 0., 0., 0., 1., 0., 0., 0., 0., 0.])"
            ]
          },
          "metadata": {},
          "execution_count": 46
        }
      ]
    },
    {
      "cell_type": "markdown",
      "source": [
        " # [[1,1,1,1],\n",
        " # [1,0,0,1],\n",
        " # [1,0,0,1],\n",
        " # [1,1,1,1]]"
      ],
      "metadata": {
        "id": "OiMhEXFKmCx3"
      }
    },
    {
      "cell_type": "code",
      "source": [
        "def create_function(a,b):\n",
        "  a = np.ones((a,b))\n",
        "  a[1:-1,1:-1] = 0\n",
        "  return a\n",
        "create_function(4,4)\n"
      ],
      "metadata": {
        "colab": {
          "base_uri": "https://localhost:8080/"
        },
        "id": "PkvUyaRwVlyb",
        "outputId": "695b521c-1081-4363-af36-24156e3ecbb6"
      },
      "execution_count": 47,
      "outputs": [
        {
          "output_type": "execute_result",
          "data": {
            "text/plain": [
              "array([[1., 1., 1., 1.],\n",
              "       [1., 0., 0., 1.],\n",
              "       [1., 0., 0., 1.],\n",
              "       [1., 1., 1., 1.]])"
            ]
          },
          "metadata": {},
          "execution_count": 47
        }
      ]
    },
    {
      "cell_type": "code",
      "source": [
        "b = np.random.random(10).reshape(5,2)\n",
        "b"
      ],
      "metadata": {
        "colab": {
          "base_uri": "https://localhost:8080/"
        },
        "id": "iD2AjKDMVlvW",
        "outputId": "12d981f4-7fab-4286-b9d0-1fe5e6e18777"
      },
      "execution_count": 48,
      "outputs": [
        {
          "output_type": "execute_result",
          "data": {
            "text/plain": [
              "array([[0.79675202, 0.12707404],\n",
              "       [0.9603822 , 0.66510493],\n",
              "       [0.26599167, 0.39303031],\n",
              "       [0.70331624, 0.3048407 ],\n",
              "       [0.10091738, 0.65367133]])"
            ]
          },
          "metadata": {},
          "execution_count": 48
        }
      ]
    },
    {
      "cell_type": "code",
      "source": [
        "np.mean(b)"
      ],
      "metadata": {
        "colab": {
          "base_uri": "https://localhost:8080/"
        },
        "id": "PEtSW4zcWl_M",
        "outputId": "b854cb3c-4385-4f19-fc0e-21eec3aa6d38"
      },
      "execution_count": 49,
      "outputs": [
        {
          "output_type": "execute_result",
          "data": {
            "text/plain": [
              "np.float64(0.4971080831648205)"
            ]
          },
          "metadata": {},
          "execution_count": 49
        }
      ]
    },
    {
      "cell_type": "code",
      "source": [
        "\n",
        "a = np.zeros(10)\n",
        "a[4] = 1\n",
        "a"
      ],
      "metadata": {
        "id": "sTF03KsZ6QUI",
        "colab": {
          "base_uri": "https://localhost:8080/"
        },
        "outputId": "3deddf63-d733-4022-fd02-720acdc8d712"
      },
      "execution_count": 50,
      "outputs": [
        {
          "output_type": "execute_result",
          "data": {
            "text/plain": [
              "array([0., 0., 0., 0., 1., 0., 0., 0., 0., 0.])"
            ]
          },
          "metadata": {},
          "execution_count": 50
        }
      ]
    },
    {
      "cell_type": "markdown",
      "source": [
        "###`Q-2` Ask user to input two numbers a, b. Write a program to generate a random array of shape (a, b) and print the array and avg of the array."
      ],
      "metadata": {
        "id": "TEiG25rS6S1i"
      }
    },
    {
      "cell_type": "code",
      "source": [
        "a.ndim"
      ],
      "metadata": {
        "colab": {
          "base_uri": "https://localhost:8080/"
        },
        "id": "6BXXH6hxol7h",
        "outputId": "4cf5a482-4523-4299-bed3-84475a9b06fd"
      },
      "execution_count": 51,
      "outputs": [
        {
          "output_type": "execute_result",
          "data": {
            "text/plain": [
              "1"
            ]
          },
          "metadata": {},
          "execution_count": 51
        }
      ]
    },
    {
      "cell_type": "code",
      "source": [
        "a.dtype"
      ],
      "metadata": {
        "colab": {
          "base_uri": "https://localhost:8080/"
        },
        "id": "zkRWovnlogE7",
        "outputId": "be78bf5a-935d-4939-cb4b-3fa574d68a3d"
      },
      "execution_count": 52,
      "outputs": [
        {
          "output_type": "execute_result",
          "data": {
            "text/plain": [
              "dtype('float64')"
            ]
          },
          "metadata": {},
          "execution_count": 52
        }
      ]
    },
    {
      "cell_type": "code",
      "source": [
        "np.shape(a)"
      ],
      "metadata": {
        "colab": {
          "base_uri": "https://localhost:8080/"
        },
        "id": "VUx9LihUoOfq",
        "outputId": "dadf4376-9794-4b5e-cf54-5e8d8af5702e"
      },
      "execution_count": 53,
      "outputs": [
        {
          "output_type": "execute_result",
          "data": {
            "text/plain": [
              "(10,)"
            ]
          },
          "metadata": {},
          "execution_count": 53
        }
      ]
    },
    {
      "cell_type": "code",
      "source": [
        "c = np.random.randint((10), size= (5,2))\n",
        "c"
      ],
      "metadata": {
        "colab": {
          "base_uri": "https://localhost:8080/"
        },
        "id": "4t_roBznoUsK",
        "outputId": "1322b176-aeb1-425a-aa99-40679e810164"
      },
      "execution_count": 54,
      "outputs": [
        {
          "output_type": "execute_result",
          "data": {
            "text/plain": [
              "array([[2, 2],\n",
              "       [3, 2],\n",
              "       [5, 0],\n",
              "       [0, 9],\n",
              "       [3, 2]])"
            ]
          },
          "metadata": {},
          "execution_count": 54
        }
      ]
    },
    {
      "cell_type": "code",
      "source": [
        "c.shape"
      ],
      "metadata": {
        "colab": {
          "base_uri": "https://localhost:8080/"
        },
        "id": "2pVTU3gLpLYH",
        "outputId": "fae324b7-f1fd-4a14-8a03-a43b2f60e948"
      },
      "execution_count": 55,
      "outputs": [
        {
          "output_type": "execute_result",
          "data": {
            "text/plain": [
              "(5, 2)"
            ]
          },
          "metadata": {},
          "execution_count": 55
        }
      ]
    },
    {
      "cell_type": "code",
      "source": [
        "c.ndim"
      ],
      "metadata": {
        "colab": {
          "base_uri": "https://localhost:8080/"
        },
        "id": "ExiGLZ_Bo53U",
        "outputId": "8236c31c-20da-452c-e76e-6942d43c10d9"
      },
      "execution_count": 56,
      "outputs": [
        {
          "output_type": "execute_result",
          "data": {
            "text/plain": [
              "2"
            ]
          },
          "metadata": {},
          "execution_count": 56
        }
      ]
    },
    {
      "cell_type": "code",
      "source": [
        "c.dtype"
      ],
      "metadata": {
        "colab": {
          "base_uri": "https://localhost:8080/"
        },
        "id": "FLK0cZbqo34e",
        "outputId": "5968f2e7-eef4-436f-a3cb-b433d28393ea"
      },
      "execution_count": 57,
      "outputs": [
        {
          "output_type": "execute_result",
          "data": {
            "text/plain": [
              "dtype('int64')"
            ]
          },
          "metadata": {},
          "execution_count": 57
        }
      ]
    },
    {
      "cell_type": "code",
      "source": [
        "c = np.random.randint((10), size= (5,2))\n",
        "np.mean(c)"
      ],
      "metadata": {
        "colab": {
          "base_uri": "https://localhost:8080/"
        },
        "id": "lEUn55ptYZil",
        "outputId": "71b0b72c-b1ed-4524-e0a2-6d1f9675525b"
      },
      "execution_count": 58,
      "outputs": [
        {
          "output_type": "execute_result",
          "data": {
            "text/plain": [
              "np.float64(4.7)"
            ]
          },
          "metadata": {},
          "execution_count": 58
        }
      ]
    },
    {
      "cell_type": "markdown",
      "source": [
        "###`Q-3`Write a function to create a 2d array with 1 on the border and 0 inside. Take 2-D array shape as (a,b) as parameter to function.\n",
        "\n",
        "Eg.-\n",
        "```\n",
        "[[1,1,1,1],\n",
        "[1,0,0,1],\n",
        "[1,0,0,1],\n",
        "[1,1,1,1]]\n",
        "```"
      ],
      "metadata": {
        "id": "2iEeybS06ZSq"
      }
    },
    {
      "cell_type": "code",
      "source": [
        "def create_function(a,b):\n",
        "  a = np.ones((a,b))\n",
        "  a[1:-1,1:-1] = 0\n",
        "  return a\n",
        "\n",
        "create_function(4,4)\n"
      ],
      "metadata": {
        "id": "gEKndkDU6ZSs",
        "colab": {
          "base_uri": "https://localhost:8080/"
        },
        "outputId": "c4af1797-6588-48ad-8eba-409723c33587"
      },
      "execution_count": 59,
      "outputs": [
        {
          "output_type": "execute_result",
          "data": {
            "text/plain": [
              "array([[1., 1., 1., 1.],\n",
              "       [1., 0., 0., 1.],\n",
              "       [1., 0., 0., 1.],\n",
              "       [1., 1., 1., 1.]])"
            ]
          },
          "metadata": {},
          "execution_count": 59
        }
      ]
    },
    {
      "cell_type": "code",
      "source": [
        "a = np.array([1,2,3,4])\n",
        "a"
      ],
      "metadata": {
        "colab": {
          "base_uri": "https://localhost:8080/"
        },
        "id": "n8F_lo0Ep4aD",
        "outputId": "723b322f-9e33-41d5-de4a-e9ad9f129373"
      },
      "execution_count": 60,
      "outputs": [
        {
          "output_type": "execute_result",
          "data": {
            "text/plain": [
              "array([1, 2, 3, 4])"
            ]
          },
          "metadata": {},
          "execution_count": 60
        }
      ]
    },
    {
      "cell_type": "code",
      "source": [
        "np.linspace(0,1,12)[1:-1]"
      ],
      "metadata": {
        "colab": {
          "base_uri": "https://localhost:8080/"
        },
        "id": "y-FjDegabgmr",
        "outputId": "1476c401-7f00-487c-f845-a9da7c609aee"
      },
      "execution_count": 61,
      "outputs": [
        {
          "output_type": "execute_result",
          "data": {
            "text/plain": [
              "array([0.09090909, 0.18181818, 0.27272727, 0.36363636, 0.45454545,\n",
              "       0.54545455, 0.63636364, 0.72727273, 0.81818182, 0.90909091])"
            ]
          },
          "metadata": {},
          "execution_count": 61
        }
      ]
    },
    {
      "cell_type": "markdown",
      "source": [
        "###`Q-4` Create a vector of size 10 with values ranging from 0 to 1, both excluded.\n"
      ],
      "metadata": {
        "id": "QRJicQ8j6ZlE"
      }
    },
    {
      "cell_type": "code",
      "source": [
        "np.linspace(0,1,12)[1:-1]"
      ],
      "metadata": {
        "id": "eC4XLhDq6ZlF",
        "colab": {
          "base_uri": "https://localhost:8080/"
        },
        "outputId": "254ccd7c-e3a1-4d20-81b7-968a7a71fb35"
      },
      "execution_count": 62,
      "outputs": [
        {
          "output_type": "execute_result",
          "data": {
            "text/plain": [
              "array([0.09090909, 0.18181818, 0.27272727, 0.36363636, 0.45454545,\n",
              "       0.54545455, 0.63636364, 0.72727273, 0.81818182, 0.90909091])"
            ]
          },
          "metadata": {},
          "execution_count": 62
        }
      ]
    },
    {
      "cell_type": "code",
      "source": [
        "\n"
      ],
      "metadata": {
        "id": "avufg-AYcU3z"
      },
      "execution_count": 62,
      "outputs": []
    },
    {
      "cell_type": "markdown",
      "source": [],
      "metadata": {
        "id": "qcRzjMPvfO_1"
      }
    },
    {
      "cell_type": "markdown",
      "source": [
        "###`Q-5` Can you create a identity mattrix of shape (3,4). If yes write code for it."
      ],
      "metadata": {
        "id": "vb4jK4yQ6Zs2"
      }
    },
    {
      "cell_type": "markdown",
      "source": [
        "np.identity function is primarily for creating square identity matrices. If you need a non-square matrix with ones on the diagonal, using np.eye is generally more direct\n"
      ],
      "metadata": {
        "id": "H0dlhMrUfNk9"
      }
    },
    {
      "cell_type": "code",
      "source": [
        "#method 1\n",
        "np.concatenate((np.identity(3),np.zeros((3,1))),axis=1)"
      ],
      "metadata": {
        "colab": {
          "base_uri": "https://localhost:8080/"
        },
        "id": "-JaJhkvMgh8r",
        "outputId": "c124e61f-aecc-4575-89da-ac160a5111b3"
      },
      "execution_count": 63,
      "outputs": [
        {
          "output_type": "execute_result",
          "data": {
            "text/plain": [
              "array([[1., 0., 0., 0.],\n",
              "       [0., 1., 0., 0.],\n",
              "       [0., 0., 1., 0.]])"
            ]
          },
          "metadata": {},
          "execution_count": 63
        }
      ]
    },
    {
      "cell_type": "code",
      "source": [
        "#method 2\n",
        "np.eye(3,4)"
      ],
      "metadata": {
        "id": "DTV_AbMS6Zs4",
        "colab": {
          "base_uri": "https://localhost:8080/"
        },
        "outputId": "9118584f-867a-4baa-d96d-41752712dc44"
      },
      "execution_count": 64,
      "outputs": [
        {
          "output_type": "execute_result",
          "data": {
            "text/plain": [
              "array([[1., 0., 0., 0.],\n",
              "       [0., 1., 0., 0.],\n",
              "       [0., 0., 1., 0.]])"
            ]
          },
          "metadata": {},
          "execution_count": 64
        }
      ]
    },
    {
      "cell_type": "markdown",
      "source": [
        "###`Q-6:` Create a 5x5 matrix with row values ranging from 0 to 4."
      ],
      "metadata": {
        "id": "QtjAFm5PEntK"
      }
    },
    {
      "cell_type": "code",
      "source": [
        "a = np.random.random(10).reshape(2,5)\n",
        "\n",
        "print('mean :', np.mean(a))\n",
        "print('standard deviation :', np.std(a))\n",
        "print('minimum value :' ,  np.min(a))\n",
        "print('maximum value :' , np.max(a))"
      ],
      "metadata": {
        "id": "ihwn4oOH6Vh7",
        "colab": {
          "base_uri": "https://localhost:8080/"
        },
        "outputId": "7aa0f286-604e-4262-bf69-c9af616d6a90"
      },
      "execution_count": 65,
      "outputs": [
        {
          "output_type": "stream",
          "name": "stdout",
          "text": [
            "mean : 0.3606467210288405\n",
            "standard deviation : 0.26759265137261024\n",
            "minimum value : 0.08329109435478899\n",
            "maximum value : 0.8932653675602471\n"
          ]
        }
      ]
    },
    {
      "cell_type": "code",
      "source": [
        "np.arange(5).reshape(1,5) + np.zeros((5,1))"
      ],
      "metadata": {
        "colab": {
          "base_uri": "https://localhost:8080/"
        },
        "id": "F9SMkauFJ6mu",
        "outputId": "940d9f41-27c1-406e-bc97-c1dadaa5eb07"
      },
      "execution_count": 66,
      "outputs": [
        {
          "output_type": "execute_result",
          "data": {
            "text/plain": [
              "array([[0., 1., 2., 3., 4.],\n",
              "       [0., 1., 2., 3., 4.],\n",
              "       [0., 1., 2., 3., 4.],\n",
              "       [0., 1., 2., 3., 4.],\n",
              "       [0., 1., 2., 3., 4.]])"
            ]
          },
          "metadata": {},
          "execution_count": 66
        }
      ]
    },
    {
      "cell_type": "markdown",
      "source": [
        "###`Q-7:`  Consider a random integer (in range 1 to 100) vector with shape `(10,2)` representing coordinates, and coordinates of a point as array is given. Create an array of distance of each point in the random vectros from the given point. Distance array should be interger type.\n",
        "\n",
        "```\n",
        "point = np.array([2,3])\n",
        "```\n"
      ],
      "metadata": {
        "id": "KPpvxKjVHnyx"
      }
    },
    {
      "cell_type": "code",
      "source": [
        "coordinates = np.random.randint(1,100,size=(10,2))\n",
        "point = np.array([2,3])\n",
        "\n",
        "distance= np.sqrt(np.sum(coordinates-point)**2)\n",
        "\n",
        "print(distance.astype(int))\n",
        "print(coordinates)\n"
      ],
      "metadata": {
        "id": "X7KGnWLNIM6f",
        "colab": {
          "base_uri": "https://localhost:8080/"
        },
        "outputId": "b6f86017-5c52-4f08-ee1e-dfcd7c8b72b9"
      },
      "execution_count": 67,
      "outputs": [
        {
          "output_type": "stream",
          "name": "stdout",
          "text": [
            "1238\n",
            "[[51 67]\n",
            " [ 1 69]\n",
            " [40 94]\n",
            " [75 96]\n",
            " [65 27]\n",
            " [70 74]\n",
            " [80 82]\n",
            " [74 36]\n",
            " [69 85]\n",
            " [47 86]]\n"
          ]
        }
      ]
    },
    {
      "cell_type": "markdown",
      "source": [
        "###`Q-8:` Consider a (6,7,8) shape array, what is the index (x,y,z) of the 100th element?"
      ],
      "metadata": {
        "id": "tajOFJlCDwTr"
      }
    },
    {
      "cell_type": "code",
      "source": [
        "# prompt:  Consider a (6,7,8) shape array, what is the index (x,y,z) of the 100th element?\n",
        "\n",
        "import numpy as np\n",
        "# For a (6, 7, 8) shape array, the total number of elements is 6 * 7 * 8 = 336.\n",
        "# We are looking for the index of the 100th element.\n",
        "# Indices are 0-based in Python/Numpy. So we are looking for the element at index 99.\n",
        "\n",
        "# The indices can be calculated using integer division and the modulo operator.\n",
        "# The size of the last dimension is 8.\n",
        "z = 99 % 8\n",
        "# The size of the second to last dimension is 7. The number of elements in the last two dimensions\n",
        "# for each element in the first dimension is 7 * 8 = 56.\n",
        "remaining_elements_after_z = 99 // 8\n",
        "y = remaining_elements_after_z % 7\n",
        "# The number of elements in the last two dimensions for each element in the first dimension is 7 * 8 = 56.\n",
        "x = 99 // (7 * 8)\n",
        "\n",
        "print(f\"The index (x, y, z) of the 100th element is ({x}, {y}, {z})\")\n",
        "\n",
        "# Verification:\n",
        "# To get the linear index from (x, y, z): index = x * (7 * 8) + y * 8 + z\n",
        "linear_index = x * (7 * 8) + y * 8 + z\n",
        "print(f\"Verifying the linear index: {linear_index}\")\n",
        "\n",
        "# Alternative using numpy's unravel_index\n",
        "index_100 = np.unravel_index(99, (6, 7, 8))\n",
        "print(f\"Using np.unravel_index: {index_100}\")\n"
      ],
      "metadata": {
        "colab": {
          "base_uri": "https://localhost:8080/"
        },
        "id": "l1Y0iKRCs3rW",
        "outputId": "2a7a7f9c-b966-4f7c-f46b-5c7bb16f67a0"
      },
      "execution_count": 68,
      "outputs": [
        {
          "output_type": "stream",
          "name": "stdout",
          "text": [
            "The index (x, y, z) of the 100th element is (1, 5, 3)\n",
            "Verifying the linear index: 99\n",
            "Using np.unravel_index: (np.int64(1), np.int64(5), np.int64(3))\n"
          ]
        }
      ]
    },
    {
      "cell_type": "markdown",
      "source": [
        "### `Q-9:` Arrays\n",
        "\n",
        "You are given a space separated list of numbers. Your task is to print a reversed NumPy array with the element type float.\n",
        "\n"
      ],
      "metadata": {
        "id": "9LxBAbT2Pw33"
      }
    },
    {
      "cell_type": "markdown",
      "source": [
        "**Input Format:**\n",
        "\n",
        "A single line of input containing space separated numbers.\n",
        "\n",
        "**Output Format:**\n",
        "\n",
        "Print the reverse NumPy array with type float.\n",
        "\n",
        "**Example 1:**\n",
        "\n",
        "Input:\n",
        "\n",
        "```bash\n",
        "1 2 3 4 -8 -10\n",
        "```\n",
        "\n",
        "Output:\n",
        "\n",
        "```bash\n",
        "[-10.  -8.   4.   3.   2.   1.]\n",
        "```"
      ],
      "metadata": {
        "id": "JJpqVms2Nq7L"
      }
    },
    {
      "cell_type": "code",
      "source": [
        "np.array([1 ,2, 3, 4, -8, -10])[::-1].astype(float)\n"
      ],
      "metadata": {
        "id": "7iQyg6ChNl3j",
        "colab": {
          "base_uri": "https://localhost:8080/"
        },
        "outputId": "ce9d8cf5-4f63-466e-8be6-03e694c40c58"
      },
      "execution_count": 69,
      "outputs": [
        {
          "output_type": "execute_result",
          "data": {
            "text/plain": [
              "array([-10.,  -8.,   4.,   3.,   2.,   1.])"
            ]
          },
          "metadata": {},
          "execution_count": 69
        }
      ]
    },
    {
      "cell_type": "markdown",
      "source": [
        "### `Q-10:` Elements count\n",
        "\n",
        "Count the number of elements of a numpy array.\n",
        "\n"
      ],
      "metadata": {
        "id": "TPxD7jM8Sjz9"
      }
    },
    {
      "cell_type": "markdown",
      "source": [
        "**Example 1:**\n",
        "\n",
        "Input:\n",
        "```bash\n",
        "np.array([])\n",
        "```\n",
        "\n",
        "Output:\n",
        "```bash\n",
        "elements_count :  0\n",
        "```"
      ],
      "metadata": {
        "id": "oHTiTz_jNkAU"
      }
    },
    {
      "cell_type": "code",
      "source": [
        "print(np.array([]).size)"
      ],
      "metadata": {
        "colab": {
          "base_uri": "https://localhost:8080/"
        },
        "id": "80l_nSMTnMr7",
        "outputId": "c787bbe2-affb-41a1-b4a7-b9d0c79ddaba"
      },
      "execution_count": 70,
      "outputs": [
        {
          "output_type": "stream",
          "name": "stdout",
          "text": [
            "0\n"
          ]
        }
      ]
    },
    {
      "cell_type": "markdown",
      "source": [
        "**Example 2:**\n",
        "\n",
        "Input:\n",
        "```bash\n",
        "np.array([1, 2])\n",
        "```\n",
        "\n",
        "Output:\n",
        "```bash\n",
        "elements_count :  2\n",
        "```"
      ],
      "metadata": {
        "id": "z_f4vYUknLFK"
      }
    },
    {
      "cell_type": "code",
      "source": [
        "print(np.array([1, 2]).size)"
      ],
      "metadata": {
        "id": "RG0H2I-TNeGN",
        "colab": {
          "base_uri": "https://localhost:8080/"
        },
        "outputId": "3c47eb55-0f21-489b-fcbd-5b56de0227f0"
      },
      "execution_count": 71,
      "outputs": [
        {
          "output_type": "stream",
          "name": "stdout",
          "text": [
            "2\n"
          ]
        }
      ]
    },
    {
      "cell_type": "markdown",
      "source": [
        "### `Q-11:` Softmax function\n",
        "\n",
        "Create a Python function to calculate the Softmax of the given numpy 1D array. The function only accepts the numpy 1D array, otherwise raise error.\n",
        "\n",
        "$$\\Large \\sigma(\\vec z)_i = \\frac{e^{z_i}}{\\sum_{j=i}^{K}{e^{z_j}}}$$\n",
        "\n",
        "https://en.wikipedia.org/wiki/Softmax_function\n",
        "\n"
      ],
      "metadata": {
        "id": "pwgPz-3l5ic5"
      }
    },
    {
      "cell_type": "markdown",
      "source": [
        "**Example 1:**\n",
        "\n",
        "Input:\n",
        "```bash\n",
        "[86.03331084 37.7285648  48.64908087 87.16563062 38.40852563 37.20006318]\n",
        "```\n",
        "\n",
        "Output:\n",
        "```bash\n",
        "[2.43733249e-01, 2.56112115e-22, 1.41628284e-17, 7.56266751e-01,\n",
        "       5.05514197e-22, 1.50974911e-22]\n",
        "```\n",
        "\n",
        "**Example 2:**\n",
        "\n",
        "Input:\n",
        "```bash\n",
        "[33.17344305 45.61961654 82.05405781 80.9647098  68.82830233 91.52064278]\n",
        "```\n",
        "\n",
        "Output:\n",
        "```bash\n",
        "[4.57181035e-26, 1.16249923e-20, 7.73872596e-05, 2.60358426e-05,\n",
        "       1.39571531e-10, 9.99896577e-01]\n",
        "```"
      ],
      "metadata": {
        "id": "eZ3WJt6UM1ul"
      }
    },
    {
      "cell_type": "code",
      "source": [
        "def softmaxx(a):\n",
        " return np.exp(a)/ np.sum(np.exp(a))\n",
        "a = np.array([86.03331084 ,37.7285648 , 48.64908087, 87.16563062 ,38.40852563, 37.20006318])\n",
        "softmaxx(a)\n",
        "\n"
      ],
      "metadata": {
        "id": "wfIKCYkhnmvl",
        "colab": {
          "base_uri": "https://localhost:8080/"
        },
        "outputId": "1c44aaef-eb38-442d-eaeb-038d2a27d1b5"
      },
      "execution_count": 72,
      "outputs": [
        {
          "output_type": "execute_result",
          "data": {
            "text/plain": [
              "array([2.43733248e-01, 2.56112114e-22, 1.41628283e-17, 7.56266752e-01,\n",
              "       5.05514197e-22, 1.50974911e-22])"
            ]
          },
          "metadata": {},
          "execution_count": 72
        }
      ]
    },
    {
      "cell_type": "code",
      "source": [
        "def softmaxx(a):\n",
        " return np.exp(a)/ np.sum(np.exp(a))\n",
        "a = np.array([33.17344305 ,45.61961654, 82.05405781, 80.9647098 , 68.82830233 ,91.52064278])\n",
        "softmaxx(a)"
      ],
      "metadata": {
        "id": "VNzj05lkNaNi",
        "colab": {
          "base_uri": "https://localhost:8080/"
        },
        "outputId": "c6fb8e02-f5a0-4b67-b419-2a3864042131"
      },
      "execution_count": 73,
      "outputs": [
        {
          "output_type": "execute_result",
          "data": {
            "text/plain": [
              "array([4.57181033e-26, 1.16249922e-20, 7.73872594e-05, 2.60358426e-05,\n",
              "       1.39571531e-10, 9.99896577e-01])"
            ]
          },
          "metadata": {},
          "execution_count": 73
        }
      ]
    },
    {
      "cell_type": "markdown",
      "source": [
        "### `Q-12:` Vertical stack\n",
        "\n",
        "Write a python function that accepts infinite number of numpy arrays and do the vertical stack to them. Then return that new array as result. The function only accepts the numpy array, otherwise raise error.\n",
        "\n"
      ],
      "metadata": {
        "id": "k4JWSwWu_HXg"
      }
    },
    {
      "cell_type": "code",
      "source": [
        "a = np.arange(10).reshape(2,5)\n",
        "b = np.ones(10).reshape(2,5)\n",
        "np.vstack((a,b))"
      ],
      "metadata": {
        "id": "stquBap3pphw",
        "colab": {
          "base_uri": "https://localhost:8080/"
        },
        "outputId": "9b737ff1-d075-4b66-a9d1-315b4d125cd9"
      },
      "execution_count": 74,
      "outputs": [
        {
          "output_type": "execute_result",
          "data": {
            "text/plain": [
              "array([[0., 1., 2., 3., 4.],\n",
              "       [5., 6., 7., 8., 9.],\n",
              "       [1., 1., 1., 1., 1.],\n",
              "       [1., 1., 1., 1., 1.]])"
            ]
          },
          "metadata": {},
          "execution_count": 74
        }
      ]
    },
    {
      "cell_type": "markdown",
      "source": [
        "**Example 1:**\n",
        "\n",
        "Input:\n",
        "```bash\n",
        "a= [[0 1 2 3 4]\n",
        " [5 6 7 8 9]]\n",
        "\n",
        "b= [[1 1 1 1 1]\n",
        " [1 1 1 1 1]]\n",
        "```\n",
        "\n",
        "Output:\n",
        "\n",
        "```bash\n",
        "[[0 1 2 3 4]\n",
        " [5 6 7 8 9]\n",
        " [1 1 1 1 1]\n",
        " [1 1 1 1 1]]\n",
        "```\n",
        "\n",
        "**Example 2:**\n",
        "\n",
        "Input:\n",
        "```bash\n",
        "a= [[0 1 2 3 4]\n",
        " [5 6 7 8 9]]\n",
        "\n",
        "b= [[1 1 1 1 1]\n",
        " [1 1 1 1 1]]\n",
        "\n",
        "c= [[0.10117373 0.1677244  0.73764059 0.83166097 0.48985695]\n",
        " [0.44581567 0.13502419 0.55692335 0.16479622 0.61193593]]\n",
        "```\n",
        "\n",
        "Output:\n",
        "```bash\n",
        "[[0.         1.         2.         3.         4.        ]\n",
        " [5.         6.         7.         8.         9.        ]\n",
        " [1.         1.         1.         1.         1.        ]\n",
        " [1.         1.         1.         1.         1.        ]\n",
        " [0.10117373 0.1677244  0.73764059 0.83166097 0.48985695]\n",
        " [0.44581567 0.13502419 0.55692335 0.16479622 0.61193593]]\n",
        "```"
      ],
      "metadata": {
        "id": "XhhV3mraNAWr"
      }
    },
    {
      "cell_type": "code",
      "source": [
        "#Coder here\n",
        "a = np.arange(10).reshape(2,5)\n",
        "b = np.ones(10).reshape(2,5)\n",
        "c = np.random.random(10).reshape(2,5)\n",
        "np.vstack((a,b,c))"
      ],
      "metadata": {
        "id": "dhtnbSj6NP8z",
        "colab": {
          "base_uri": "https://localhost:8080/"
        },
        "outputId": "5c8fc0bf-63b5-46d8-f73e-3c2981ddb72b"
      },
      "execution_count": 75,
      "outputs": [
        {
          "output_type": "execute_result",
          "data": {
            "text/plain": [
              "array([[0.        , 1.        , 2.        , 3.        , 4.        ],\n",
              "       [5.        , 6.        , 7.        , 8.        , 9.        ],\n",
              "       [1.        , 1.        , 1.        , 1.        , 1.        ],\n",
              "       [1.        , 1.        , 1.        , 1.        , 1.        ],\n",
              "       [0.33627576, 0.01732296, 0.67466417, 0.80138247, 0.95650247],\n",
              "       [0.28213692, 0.4256276 , 0.53280726, 0.96877741, 0.18540761]])"
            ]
          },
          "metadata": {},
          "execution_count": 75
        }
      ]
    },
    {
      "cell_type": "markdown",
      "source": [
        "### `Q-13:` Dates\n",
        "\n",
        "Create a python function named **date_array** that accepts two dates as string format and returns a numpy array of dates between those 2 dates. The function only accept 2 strings, otherwise raise error. The date format should be like this only: `2022-12-6`. The end date should be included and for simplicity, choose dates from a same year.\n",
        "\n"
      ],
      "metadata": {
        "id": "3mk8T6CuC2DP"
      }
    },
    {
      "cell_type": "markdown",
      "source": [],
      "metadata": {
        "id": "1xRklsC8ruT4"
      }
    },
    {
      "cell_type": "code",
      "source": [
        "import numpy as np\n",
        "\n",
        "def date_array(start, end):\n",
        "    # Check if the inputs are strings\n",
        "    if not isinstance(start, str) or not isinstance(end, str):\n",
        "        raise ValueError(\"Inputs must be strings\")\n",
        "\n",
        "    # Generate date array using np.arange with datetime64 data type\n",
        "    dates = np.arange(start, end, dtype='datetime64[D]')  # Include end date by adding 1 day\n",
        "    #dates = np.append(dates, np.datetime64(end)) # manually add end date\n",
        "\n",
        "    # Convert to string and return\n",
        "    return dates.astype(str)\n",
        "date_array('2022-12-01', '2022-12-26')"
      ],
      "metadata": {
        "id": "nKDv5CActClp",
        "colab": {
          "base_uri": "https://localhost:8080/"
        },
        "outputId": "b553b9b7-d837-4146-d57b-ce95fe5c672e"
      },
      "execution_count": 76,
      "outputs": [
        {
          "output_type": "execute_result",
          "data": {
            "text/plain": [
              "array(['2022-12-01', '2022-12-02', '2022-12-03', '2022-12-04',\n",
              "       '2022-12-05', '2022-12-06', '2022-12-07', '2022-12-08',\n",
              "       '2022-12-09', '2022-12-10', '2022-12-11', '2022-12-12',\n",
              "       '2022-12-13', '2022-12-14', '2022-12-15', '2022-12-16',\n",
              "       '2022-12-17', '2022-12-18', '2022-12-19', '2022-12-20',\n",
              "       '2022-12-21', '2022-12-22', '2022-12-23', '2022-12-24',\n",
              "       '2022-12-25'], dtype='<U28')"
            ]
          },
          "metadata": {},
          "execution_count": 76
        }
      ]
    },
    {
      "cell_type": "code",
      "source": [
        "def date_array(start,end):\n",
        "  if not isinstance(start,str) and not isinstance(end,str):\n",
        "    raise ValueError(\"input must be a string\")\n",
        "  dates = np.arange(start,end,dtype = 'datetime64[D]')\n",
        "  dates = np.append(dates,np.datetime64(end))\n",
        "  return dates.astype(str)\n",
        "date_array('2022-12-01', '2022-12-26')"
      ],
      "metadata": {
        "id": "J8XY2t-5xlYN",
        "colab": {
          "base_uri": "https://localhost:8080/"
        },
        "outputId": "3da8f416-5a17-4807-ef1e-8a236afe176a"
      },
      "execution_count": 77,
      "outputs": [
        {
          "output_type": "execute_result",
          "data": {
            "text/plain": [
              "array(['2022-12-01', '2022-12-02', '2022-12-03', '2022-12-04',\n",
              "       '2022-12-05', '2022-12-06', '2022-12-07', '2022-12-08',\n",
              "       '2022-12-09', '2022-12-10', '2022-12-11', '2022-12-12',\n",
              "       '2022-12-13', '2022-12-14', '2022-12-15', '2022-12-16',\n",
              "       '2022-12-17', '2022-12-18', '2022-12-19', '2022-12-20',\n",
              "       '2022-12-21', '2022-12-22', '2022-12-23', '2022-12-24',\n",
              "       '2022-12-25', '2022-12-26'], dtype='<U28')"
            ]
          },
          "metadata": {},
          "execution_count": 77
        }
      ]
    },
    {
      "cell_type": "code",
      "source": [
        "x = np.arange('2022-01-01', '2022-02-01',dtype='datetime64[D]')\n",
        "x\n",
        "np.append(x, np.datetime64('2022-02-01'))"
      ],
      "metadata": {
        "id": "l4rpEa8NrTwQ",
        "colab": {
          "base_uri": "https://localhost:8080/"
        },
        "outputId": "f40d2536-1c00-40ce-f7d5-ec1ed88a69bf"
      },
      "execution_count": 78,
      "outputs": [
        {
          "output_type": "execute_result",
          "data": {
            "text/plain": [
              "array(['2022-01-01', '2022-01-02', '2022-01-03', '2022-01-04',\n",
              "       '2022-01-05', '2022-01-06', '2022-01-07', '2022-01-08',\n",
              "       '2022-01-09', '2022-01-10', '2022-01-11', '2022-01-12',\n",
              "       '2022-01-13', '2022-01-14', '2022-01-15', '2022-01-16',\n",
              "       '2022-01-17', '2022-01-18', '2022-01-19', '2022-01-20',\n",
              "       '2022-01-21', '2022-01-22', '2022-01-23', '2022-01-24',\n",
              "       '2022-01-25', '2022-01-26', '2022-01-27', '2022-01-28',\n",
              "       '2022-01-29', '2022-01-30', '2022-01-31', '2022-02-01'],\n",
              "      dtype='datetime64[D]')"
            ]
          },
          "metadata": {},
          "execution_count": 78
        }
      ]
    },
    {
      "cell_type": "markdown",
      "source": [
        "**Example 1:**\n",
        "\n",
        "Input:\n",
        "```bash\n",
        "date_array(start = '2020-09-15', end = '2020-09-25')\n",
        "```\n",
        "\n",
        "Output:\n",
        "```bash\n",
        "['2020-09-15', '2020-09-16', '2020-09-17', '2020-09-18',\n",
        " '2020-09-19', '2020-09-20', '2020-09-21', '2020-09-22',\n",
        " '2020-09-23', '2020-09-24', '2020-09-25']\n",
        "```\n",
        "\n",
        "**Example 2:**\n",
        "\n",
        "Input:\n",
        "```bash\n",
        "date_array(start = '2022-12-01', end = '2022-12-06')\n",
        "```\n",
        "\n",
        "Output:\n",
        "```bash\n",
        "['2022-12-01', '2022-12-02', '2022-12-03', '2022-12-04', '2022-12-05', '2022-12-06']\n",
        "```\n",
        "\n",
        "**Example 3:**\n",
        "\n",
        "Input:\n",
        "```bash\n",
        "date_array(start = '2020-11-25', end = '2020-11-30')\n",
        "```\n",
        "\n",
        "Output:\n",
        "```bash\n",
        "['2020-11-25', '2020-11-26', '2020-11-27', '2020-11-28',\n",
        " '2020-11-29', '2020-11-30']\n",
        "```"
      ],
      "metadata": {
        "id": "E3IgjnTTNFEk"
      }
    },
    {
      "cell_type": "code",
      "source": [
        "#Code here"
      ],
      "metadata": {
        "id": "Yj5PBfQQNTnL"
      },
      "execution_count": 79,
      "outputs": []
    },
    {
      "cell_type": "markdown",
      "source": [
        "###`Q-14:` Subtract the mean of each row from a matrix."
      ],
      "metadata": {
        "id": "bcEp0wTWQijK"
      }
    },
    {
      "cell_type": "code",
      "source": [
        "#code here\n",
        "a = np.arange(10).reshape(5,2)\n",
        "a\n",
        "b = np.mean(a)\n",
        "c = np.subtract(a,b)\n",
        "print(b)\n",
        "print(a)\n",
        "c\n",
        "\n",
        "\n"
      ],
      "metadata": {
        "id": "rpILVGcgQzMo",
        "colab": {
          "base_uri": "https://localhost:8080/"
        },
        "outputId": "dd898674-17eb-4a28-feeb-7b419ade9061"
      },
      "execution_count": 80,
      "outputs": [
        {
          "output_type": "stream",
          "name": "stdout",
          "text": [
            "4.5\n",
            "[[0 1]\n",
            " [2 3]\n",
            " [4 5]\n",
            " [6 7]\n",
            " [8 9]]\n"
          ]
        },
        {
          "output_type": "execute_result",
          "data": {
            "text/plain": [
              "array([[-4.5, -3.5],\n",
              "       [-2.5, -1.5],\n",
              "       [-0.5,  0.5],\n",
              "       [ 1.5,  2.5],\n",
              "       [ 3.5,  4.5]])"
            ]
          },
          "metadata": {},
          "execution_count": 80
        }
      ]
    },
    {
      "cell_type": "markdown",
      "source": [
        "###`Q-15:` Swap column-1 of array with column-2 in the array."
      ],
      "metadata": {
        "id": "A-dMVlPPSBTT"
      }
    },
    {
      "cell_type": "code",
      "source": [
        "#Code here\n"
      ],
      "metadata": {
        "id": "3RtngM9-Q6S7"
      },
      "execution_count": 81,
      "outputs": []
    },
    {
      "cell_type": "code",
      "source": [
        "a\n",
        "a[:,[0,1]] = a[:,[1,0]]\n",
        "a"
      ],
      "metadata": {
        "id": "ueoMV_LlSnGU",
        "colab": {
          "base_uri": "https://localhost:8080/"
        },
        "outputId": "3ddbd157-3c9f-418d-f991-735e31d53a8c"
      },
      "execution_count": 82,
      "outputs": [
        {
          "output_type": "execute_result",
          "data": {
            "text/plain": [
              "array([[1, 0],\n",
              "       [3, 2],\n",
              "       [5, 4],\n",
              "       [7, 6],\n",
              "       [9, 8]])"
            ]
          },
          "metadata": {},
          "execution_count": 82
        }
      ]
    },
    {
      "cell_type": "code",
      "source": [
        "a = np.arange(10).reshape(2,5)\n",
        "a[[0,1],:]  = a[[1,0],:]\n",
        "a"
      ],
      "metadata": {
        "id": "IxUVpid245kS",
        "colab": {
          "base_uri": "https://localhost:8080/"
        },
        "outputId": "0958232e-a32f-460b-e795-62c8feb4efa2"
      },
      "execution_count": 83,
      "outputs": [
        {
          "output_type": "execute_result",
          "data": {
            "text/plain": [
              "array([[5, 6, 7, 8, 9],\n",
              "       [0, 1, 2, 3, 4]])"
            ]
          },
          "metadata": {},
          "execution_count": 83
        }
      ]
    },
    {
      "cell_type": "markdown",
      "source": [
        "###`Q-16:` Replace odd elements in arrays with -1."
      ],
      "metadata": {
        "id": "cB4VMexvS6Zi"
      }
    },
    {
      "cell_type": "code",
      "source": [
        "a = np.arange(10).reshape(2,5)\n",
        "a"
      ],
      "metadata": {
        "id": "Bt83nXEVS5O4",
        "colab": {
          "base_uri": "https://localhost:8080/"
        },
        "outputId": "8a48019b-bf61-44c9-e119-3071e52daa62"
      },
      "execution_count": 84,
      "outputs": [
        {
          "output_type": "execute_result",
          "data": {
            "text/plain": [
              "array([[0, 1, 2, 3, 4],\n",
              "       [5, 6, 7, 8, 9]])"
            ]
          },
          "metadata": {},
          "execution_count": 84
        }
      ]
    },
    {
      "cell_type": "code",
      "source": [
        "a[~(a%2==0)] = -1\n",
        "a"
      ],
      "metadata": {
        "id": "1ZlvMaXLVyoW",
        "colab": {
          "base_uri": "https://localhost:8080/"
        },
        "outputId": "57df11a3-b214-4dd0-b3d1-5987cf3c2c3f"
      },
      "execution_count": 85,
      "outputs": [
        {
          "output_type": "execute_result",
          "data": {
            "text/plain": [
              "array([[ 0, -1,  2, -1,  4],\n",
              "       [-1,  6, -1,  8, -1]])"
            ]
          },
          "metadata": {},
          "execution_count": 85
        }
      ]
    },
    {
      "cell_type": "markdown",
      "source": [
        "###`Q-17:` Given two arrays of same shape make an array of max out of two arrays. (Numpy way)\n",
        "```\n",
        "a=np.array([6,3,1,5,8])\n",
        "b=np.array([3,2,1,7,2])\n",
        "\n",
        "Result-> [6 3 1 7 8]\n",
        "```"
      ],
      "metadata": {
        "id": "kf_qvmBxWIT_"
      }
    },
    {
      "cell_type": "code",
      "source": [
        "a=np.array([6,3,1,5,8])\n",
        "b=np.array([3,2,1,7,2])\n",
        "result = np.maximum(a, b)\n",
        "result"
      ],
      "metadata": {
        "id": "TB9ZvF-EZSfu",
        "colab": {
          "base_uri": "https://localhost:8080/"
        },
        "outputId": "294c6084-30d1-4c40-c5b2-0deb22a1cff3"
      },
      "execution_count": 86,
      "outputs": [
        {
          "output_type": "execute_result",
          "data": {
            "text/plain": [
              "array([6, 3, 1, 7, 8])"
            ]
          },
          "metadata": {},
          "execution_count": 86
        }
      ]
    },
    {
      "cell_type": "markdown",
      "source": [
        "###`Q-18` Answer below asked questions on given array:\n",
        "1. Fetch Every alternate column of the array\n",
        "2. Normalise the given array\n",
        "\n",
        "https://en.wikipedia.org/wiki/Normalization_(statistics)\n",
        "\n",
        "There are different form of normalisation for this question use below formula.\n",
        "\n",
        "$$\\large X_{normalized} = \\frac{X - X_{min}}{X_{max} - X_{min}}$$\n",
        "\n",
        "```python\n",
        "arr1=np.random.randint(low=1, high=10000, size=40).reshape(8,5)\n",
        "```\n"
      ],
      "metadata": {
        "id": "iOQLUIeGc3zA"
      }
    },
    {
      "cell_type": "code",
      "source": [
        "# Given\n",
        "arr1=np.random.randint(low=1, high=10000, size=40).reshape(8,5)\n",
        "arr1"
      ],
      "metadata": {
        "id": "vjSm18k3d_1p",
        "colab": {
          "base_uri": "https://localhost:8080/"
        },
        "outputId": "595a3f57-ff3c-48f6-a258-95aab0066467"
      },
      "execution_count": 87,
      "outputs": [
        {
          "output_type": "execute_result",
          "data": {
            "text/plain": [
              "array([[1994, 4250, 7978, 1717, 4700],\n",
              "       [6704, 1600,  676,  839, 8997],\n",
              "       [8731, 8337, 9084, 8211, 2690],\n",
              "       [ 357,  707, 6914, 3796, 5990],\n",
              "       [1535, 4394, 1145, 3731, 8759],\n",
              "       [7450, 9537, 8023, 9216, 9676],\n",
              "       [3246, 2209, 4171, 2837, 4048],\n",
              "       [2484, 6827, 4396, 2964, 2279]])"
            ]
          },
          "metadata": {},
          "execution_count": 87
        }
      ]
    },
    {
      "cell_type": "code",
      "source": [
        "# Fetch Every alternate column\n",
        "print(arr1[:, ::2])\n",
        "\n",
        "# Normalise the array\n",
        "arr1_normalized = (arr1 - arr1.min()) / (arr1.max() - arr1.min())\n",
        "print(arr1_normalized)"
      ],
      "metadata": {
        "colab": {
          "base_uri": "https://localhost:8080/"
        },
        "id": "WZpWqcLGqNLO",
        "outputId": "bf69af38-527e-407b-ee50-d90232550210"
      },
      "execution_count": 88,
      "outputs": [
        {
          "output_type": "stream",
          "name": "stdout",
          "text": [
            "[[1994 7978 4700]\n",
            " [6704  676 8997]\n",
            " [8731 9084 2690]\n",
            " [ 357 6914 5990]\n",
            " [1535 1145 8759]\n",
            " [7450 8023 9676]\n",
            " [3246 4171 4048]\n",
            " [2484 4396 2279]]\n",
            "[[0.17566262 0.41774869 0.81779161 0.14593841 0.46603713]\n",
            " [0.68108166 0.13338341 0.03423114 0.05172229 0.9271381 ]\n",
            " [0.89859427 0.85631506 0.93647387 0.84279429 0.25034875]\n",
            " [0.         0.03755768 0.70361627 0.36903101 0.604464  ]\n",
            " [0.12640841 0.43320099 0.08455843 0.36205601 0.90159888]\n",
            " [0.76113317 0.98508424 0.82262045 0.95063848 1.        ]\n",
            " [0.3100118  0.19873377 0.40927138 0.26612297 0.39607254]\n",
            " [0.22824337 0.6942805  0.4334156  0.27975105 0.20624531]]\n"
          ]
        }
      ]
    },
    {
      "cell_type": "code",
      "source": [
        "#Code here"
      ],
      "metadata": {
        "id": "d7u8DB47eBfQ"
      },
      "execution_count": 89,
      "outputs": []
    },
    {
      "cell_type": "markdown",
      "source": [
        "###`Q-19:` Write a function which will accept 2 arguments.\n",
        "First: A 1D numpy array arr\n",
        "\n",
        "Second: An integer n {Please make sure n<=len(arr)}\n",
        "\n",
        "Output: The output should be the nth largest item out of the array\n",
        "```\n",
        "# Example1 : arr=(12,34,40,7,1,0) and n=3, the output should be 12\n",
        "# Example2 : arr=(12,34,40,7,1,0) and n=1, the output should be 40\n",
        "```"
      ],
      "metadata": {
        "id": "jCzsVEKLgGNo"
      }
    },
    {
      "cell_type": "code",
      "source": [
        "import numpy as np\n",
        "\n",
        "def nth_largest(arr, n):\n",
        "  if n > len(arr):\n",
        "    raise ValueError(\"n cannot be greater than the length of the array\")\n",
        "\n",
        "  sorted_arr = np.sort(arr)\n",
        "  return sorted_arr[-n]\n",
        "\n",
        "# Example usage:\n",
        "arr1 = np.array([12, 34, 40, 7, 1, 0])\n",
        "n1 = 3\n",
        "result1 = nth_largest(arr1, n1)\n",
        "print(f\"Example 1: {result1}\")\n",
        "\n",
        "arr2 = np.array([12, 34, 40, 7, 1, 0])\n",
        "n2 = 1\n",
        "result2 = nth_largest(arr2, n2)\n",
        "print(f\"Example 2: {result2}\")"
      ],
      "metadata": {
        "colab": {
          "base_uri": "https://localhost:8080/"
        },
        "id": "BjFvG2r7pEPT",
        "outputId": "e75b6f5b-2a1f-48b9-bb7a-df37080c3ffe"
      },
      "execution_count": 90,
      "outputs": [
        {
          "output_type": "stream",
          "name": "stdout",
          "text": [
            "Example 1: 12\n",
            "Example 2: 40\n"
          ]
        }
      ]
    },
    {
      "cell_type": "markdown",
      "source": [
        "###`Q-20:` Create the following pattern without hardcoding. Use only numpy functions and the below input array a.\n",
        "```\n",
        "# Input: a = np.array([1,2,3])\n",
        "# Output: array([1, 1, 1, 2, 2, 2, 3, 3, 3, 1, 2, 3, 1, 2, 3, 1, 2, 3])\n",
        "```"
      ],
      "metadata": {
        "id": "ja0xPCgjhBsg"
      }
    },
    {
      "cell_type": "code",
      "source": [
        "a = np.array([1, 2, 3])\n",
        "output = np.concatenate((np.repeat(a, 3), np.tile(a, 3)))\n",
        "print(output)"
      ],
      "metadata": {
        "colab": {
          "base_uri": "https://localhost:8080/"
        },
        "id": "bqVsTyWLoqo3",
        "outputId": "29e7c389-7c22-4e2e-b74c-0262c9b48880"
      },
      "execution_count": 91,
      "outputs": [
        {
          "output_type": "stream",
          "name": "stdout",
          "text": [
            "[1 1 1 2 2 2 3 3 3 1 2 3 1 2 3 1 2 3]\n"
          ]
        }
      ]
    },
    {
      "cell_type": "markdown",
      "source": [
        "## Advance Numpy"
      ],
      "metadata": {
        "id": "bu1LpEoayh6q"
      }
    },
    {
      "cell_type": "markdown",
      "source": [
        "#Q-1: Find the nearest element in the array to a given integer.\n",
        "\n",
        "Ex:-\n",
        "a=23 and array - [10 17 24 31 38 45 52 59].\n",
        "\n",
        "Nearest element is 24\n",
        "\n",
        "Hint: Read about this function argmin()"
      ],
      "metadata": {
        "id": "on_iPRu9tr2u"
      }
    },
    {
      "cell_type": "code",
      "source": [
        "# code here\n",
        "arr = np.array([10, 17, 24, 31, 38, 45, 52, 59])\n",
        "a=39\n",
        "arr[abs(arr - a).argmin()]"
      ],
      "metadata": {
        "colab": {
          "base_uri": "https://localhost:8080/"
        },
        "id": "dvtH3NBUuRQn",
        "outputId": "6ec2a0b5-c3ab-4e21-e0a7-b303094a8409"
      },
      "execution_count": 92,
      "outputs": [
        {
          "output_type": "execute_result",
          "data": {
            "text/plain": [
              "np.int64(38)"
            ]
          },
          "metadata": {},
          "execution_count": 92
        }
      ]
    },
    {
      "cell_type": "markdown",
      "source": [
        "#Q-2: Replace multiples of 3 or 5 as 0 in the given array.\n",
        "\n",
        "arr=[1 2 3 4 5 6 7 9]\n",
        "\n",
        "result-> [1 2 0 4 0 0 7 0]"
      ],
      "metadata": {
        "id": "fxBuYftRuZv1"
      }
    },
    {
      "cell_type": "code",
      "source": [
        "# code here\n",
        "arr=np.array([1, 2, 3, 4, 5, 6, 7, 9])\n",
        "arr[(arr%3==0) | (arr%5==0)] = 0\n",
        "arr"
      ],
      "metadata": {
        "colab": {
          "base_uri": "https://localhost:8080/"
        },
        "id": "KhfDSsEVuROG",
        "outputId": "8569c342-f549-4fbc-85b9-697c2d6ecf79"
      },
      "execution_count": 93,
      "outputs": [
        {
          "output_type": "execute_result",
          "data": {
            "text/plain": [
              "array([1, 2, 0, 4, 0, 0, 7, 0])"
            ]
          },
          "metadata": {},
          "execution_count": 93
        }
      ]
    },
    {
      "cell_type": "markdown",
      "source": [
        "#Q-3: Use Fancy Indexing.\n",
        "Double the array elements at given indexes\n",
        "\n",
        "arr = np.arrange(10)\n",
        "indexes = [0,3,4,9]\n",
        "\n",
        "\n",
        "#Result -> [ 0 1 2 6 8 5 6 7 8 18]\n",
        "\n",
        "Using a given array make a different array as in below example\n",
        "\n",
        "array = [1,2,3]\n",
        "result array -> [1 1 1 2 2 2 3 3 3]\n",
        "\n",
        "Internal-repetion should be as length of the array.\n",
        "\n",
        "#Hint:\n",
        "\n",
        "if a is an array\n",
        "a = [2,4]\n",
        "a[[1,1,0,1]] will result in-> [4 4 2 4]"
      ],
      "metadata": {
        "id": "0WAd2u4_upOL"
      }
    },
    {
      "cell_type": "code",
      "source": [
        "arr = np.arange(10)\n",
        "indexes = [0,3,4,9]\n",
        "arr[indexes] *=2\n",
        "arr"
      ],
      "metadata": {
        "colab": {
          "base_uri": "https://localhost:8080/"
        },
        "id": "i3FtW_MBuRJC",
        "outputId": "89bc06dc-8ff2-4f57-faaa-fa4c11729234"
      },
      "execution_count": 94,
      "outputs": [
        {
          "output_type": "execute_result",
          "data": {
            "text/plain": [
              "array([ 0,  1,  2,  6,  8,  5,  6,  7,  8, 18])"
            ]
          },
          "metadata": {},
          "execution_count": 94
        }
      ]
    },
    {
      "cell_type": "code",
      "source": [
        "array = np.array([1,2,3])\n",
        "indexes = []\n",
        "for index in range(len(array)):\n",
        "    indexes.extend([index] * len(array))\n",
        "array[indexes]"
      ],
      "metadata": {
        "colab": {
          "base_uri": "https://localhost:8080/"
        },
        "id": "RrkELzdGuRGS",
        "outputId": "0d373407-8cda-498d-d256-91e005b573b5"
      },
      "execution_count": 95,
      "outputs": [
        {
          "output_type": "execute_result",
          "data": {
            "text/plain": [
              "array([1, 1, 1, 2, 2, 2, 3, 3, 3])"
            ]
          },
          "metadata": {},
          "execution_count": 95
        }
      ]
    },
    {
      "cell_type": "markdown",
      "source": [
        "#Q-4: Your are given an array which is havig some nan value. You job is to fill those nan values with most common element in the array.\n",
        "\n",
        "arr=np.array([[1,2,np.nan],[4,2,6],[np.nan,np.nan,5]])"
      ],
      "metadata": {
        "id": "0PQJ3KDfvUza"
      }
    },
    {
      "cell_type": "code",
      "source": [
        "# code here\n",
        "arr=np.array([[1,2,np.nan],[4,2,6],[np.nan,np.nan,5]])\n",
        "d = {}\n",
        "for i in arr.flatten():\n",
        "    if i in d:\n",
        "        d[i] += 1\n",
        "    else:\n",
        "        d[i] = 1\n",
        "\n",
        "arr[np.isnan(arr)] = sorted(d.items(), key = lambda x: x[1])[-1][0]\n",
        "arr"
      ],
      "metadata": {
        "colab": {
          "base_uri": "https://localhost:8080/"
        },
        "id": "eVxRAqJWuRAY",
        "outputId": "dd86c878-04ec-4845-8fb8-26f2cd690e82"
      },
      "execution_count": 96,
      "outputs": [
        {
          "output_type": "execute_result",
          "data": {
            "text/plain": [
              "array([[1., 2., 2.],\n",
              "       [4., 2., 6.],\n",
              "       [2., 2., 5.]])"
            ]
          },
          "metadata": {},
          "execution_count": 96
        }
      ]
    },
    {
      "cell_type": "markdown",
      "source": [
        "#Q-5: Write a NumPy program\n",
        "\n",
        "to find the missing data in a given array. Return a boolean matrix.\n",
        "\n",
        "also try to fill those missing values with 0. For that, you can use np.nan_to_num(a)"
      ],
      "metadata": {
        "id": "WPebsKMRv1Fh"
      }
    },
    {
      "cell_type": "code",
      "source": [
        "# 1ST METHOD\n",
        "arr = np.array([[3, 2, np.nan, 1],\n",
        "          [10, 12, 10, 9],\n",
        "          [5, np.nan, 1, np.nan]])\n",
        "np.isnan(arr)"
      ],
      "metadata": {
        "colab": {
          "base_uri": "https://localhost:8080/"
        },
        "id": "o2UlR2q_uQ-C",
        "outputId": "7f3e098e-13a9-4036-c22e-33886b31aa79"
      },
      "execution_count": 97,
      "outputs": [
        {
          "output_type": "execute_result",
          "data": {
            "text/plain": [
              "array([[False, False,  True, False],\n",
              "       [False, False, False, False],\n",
              "       [False,  True, False,  True]])"
            ]
          },
          "metadata": {},
          "execution_count": 97
        }
      ]
    },
    {
      "cell_type": "code",
      "source": [
        "# 2ND METHOD\n",
        "np.nan_to_num(arr)"
      ],
      "metadata": {
        "colab": {
          "base_uri": "https://localhost:8080/"
        },
        "id": "IaV3yfiTwUFA",
        "outputId": "d2656c88-8282-40bf-ec02-01d4e11ba9cc"
      },
      "execution_count": 98,
      "outputs": [
        {
          "output_type": "execute_result",
          "data": {
            "text/plain": [
              "array([[ 3.,  2.,  0.,  1.],\n",
              "       [10., 12., 10.,  9.],\n",
              "       [ 5.,  0.,  1.,  0.]])"
            ]
          },
          "metadata": {},
          "execution_count": 98
        }
      ]
    },
    {
      "cell_type": "markdown",
      "source": [
        "#Q-6: Given two arrays, X and Y, construct the Cauchy matrix C.\n",
        "Cij =1/(xi - yj)\n",
        "\n",
        "http://en.wikipedia.org/wiki/Cauchy_matrix\n",
        "\n",
        "x = numpy.array([1,2,3,4]).reshape((-1, 1)\n",
        "\n",
        "y = numpy.array([5,6,7])"
      ],
      "metadata": {
        "id": "46xIAaNwwLq_"
      }
    },
    {
      "cell_type": "code",
      "source": [
        "# code here\n",
        "x = np.array([1,2,3,4]).reshape((-1, 1))\n",
        "y = np.array([5,6,7])\n",
        "\n",
        "1/(x-y)"
      ],
      "metadata": {
        "colab": {
          "base_uri": "https://localhost:8080/"
        },
        "id": "ijqp9N3puQ4p",
        "outputId": "92508da9-ecc7-4e2d-84d2-9eea1ba8f83e"
      },
      "execution_count": 99,
      "outputs": [
        {
          "output_type": "execute_result",
          "data": {
            "text/plain": [
              "array([[-0.25      , -0.2       , -0.16666667],\n",
              "       [-0.33333333, -0.25      , -0.2       ],\n",
              "       [-0.5       , -0.33333333, -0.25      ],\n",
              "       [-1.        , -0.5       , -0.33333333]])"
            ]
          },
          "metadata": {},
          "execution_count": 99
        }
      ]
    },
    {
      "cell_type": "markdown",
      "source": [
        "#Q-7: Plot this below equation.\n",
        "\n",
        "y=ex−e−xex+e−x\n",
        "\n",
        "#Note: This equation is called tanh activation function. In deep learning, many times this function is used. If you find some difference between the sigmoid function and this tanh function, note that to your notebook."
      ],
      "metadata": {
        "id": "U1_4HaL3wrKz"
      }
    },
    {
      "cell_type": "code",
      "source": [
        "# code here\n",
        "import matplotlib.pyplot as plt\n",
        "\n",
        "x = np.linspace(-30, 30, 1000)\n",
        "y = (np.exp(x) - np.exp(-x)) / (np.exp(x) + np.exp(-x))\n",
        "\n",
        "plt.plot(x,y)"
      ],
      "metadata": {
        "colab": {
          "base_uri": "https://localhost:8080/",
          "height": 447
        },
        "id": "ymARi79WuQ17",
        "outputId": "5553c36f-19e1-4257-a7d0-ca4bc4bc79fe"
      },
      "execution_count": 100,
      "outputs": [
        {
          "output_type": "execute_result",
          "data": {
            "text/plain": [
              "[<matplotlib.lines.Line2D at 0x7ba19014fb10>]"
            ]
          },
          "metadata": {},
          "execution_count": 100
        },
        {
          "output_type": "display_data",
          "data": {
            "text/plain": [
              "<Figure size 640x480 with 1 Axes>"
            ],
            "image/png": "[encoded data removed]"
          },
          "metadata": {}
        }
      ]
    },
    {
      "cell_type": "markdown",
      "source": [
        "#Q-8: Plot the below equation.\n",
        "y=36−(x−4)2−−−−−−−−−−√+2\n",
        "\n",
        "The range of x should be between -2 to 10.  x∈[−2,10]"
      ],
      "metadata": {
        "id": "p3jcdeN_xATV"
      }
    },
    {
      "cell_type": "code",
      "source": [
        "# code here\n",
        "x = np.linspace(-2, 10, 100)\n",
        "y = np.sqrt(36 - (x-4)**2) + 2\n",
        "\n",
        "plt.plot(x,y)"
      ],
      "metadata": {
        "colab": {
          "base_uri": "https://localhost:8080/",
          "height": 447
        },
        "id": "y8rp_BzlxA7a",
        "outputId": "b967fef1-b2d1-4074-ccb1-df04960c40c7"
      },
      "execution_count": 101,
      "outputs": [
        {
          "output_type": "execute_result",
          "data": {
            "text/plain": [
              "[<matplotlib.lines.Line2D at 0x7ba18bf173d0>]"
            ]
          },
          "metadata": {},
          "execution_count": 101
        },
        {
          "output_type": "display_data",
          "data": {
            "text/plain": [
              "<Figure size 640x480 with 1 Axes>"
            ],
            "image/png": "[encoded data removed]"
          },
          "metadata": {}
        }
      ]
    },
    {
      "cell_type": "markdown",
      "source": [
        "#Q-9: Write a program implement Broadcasting Rule to check if two array can be added or not.\n",
        "\n",
        "Given tuples of shapes.\n",
        "\n",
        "\n",
        "shape of a- (3,2,2)\n",
        "shape of b- (2,2)\n",
        "\n",
        "\n",
        "check_broadcast(a, b) -> return Boolean (True if can broadcasted, False other wise.)"
      ],
      "metadata": {
        "id": "iCZ2hUgZxTgj"
      }
    },
    {
      "cell_type": "code",
      "source": [
        "def check_broadcast(shape_a, shape_b):\n",
        "\n",
        "    # Make shapes of equal length by prepending 1s to the shorter shape\n",
        "    max_len = max(len(shape_a), len(shape_b))\n",
        "    shape_a = (1,) * (max_len - len(shape_a)) + shape_a\n",
        "    shape_b = (1,) * (max_len - len(shape_b)) + shape_b\n",
        "\n",
        "    # Iterate through dimensions from right to left\n",
        "    for dim_a, dim_b in zip(reversed(shape_a), reversed(shape_b)):\n",
        "        if dim_a != dim_b and dim_a != 1 and dim_b != 1:\n",
        "            return False\n",
        "    return True\n",
        "\n",
        "# Example usage:\n",
        "shape_a = (3, 2, 2)\n",
        "shape_b = (2, 2)\n",
        "print(check_broadcast(shape_a, shape_b))\n",
        "\n",
        "shape_c = (3, 2, 2)\n",
        "shape_d = (3, 1, 2)\n",
        "print(check_broadcast(shape_c, shape_d))\n",
        "\n",
        "shape_e = (3, 2, 2)\n",
        "shape_f = (4, 2, 2)\n",
        "print(check_broadcast(shape_e, shape_f))"
      ],
      "metadata": {
        "colab": {
          "base_uri": "https://localhost:8080/"
        },
        "id": "q-e6Ibayxl5G",
        "outputId": "824caa59-ca85-4647-9abf-dba73939ca8f"
      },
      "execution_count": 102,
      "outputs": [
        {
          "output_type": "stream",
          "name": "stdout",
          "text": [
            "True\n",
            "True\n",
            "False\n"
          ]
        }
      ]
    },
    {
      "cell_type": "code",
      "source": [],
      "metadata": {
        "id": "yyYAktKiycoc"
      },
      "execution_count": 102,
      "outputs": []
    },
    {
      "cell_type": "code",
      "source": [],
      "metadata": {
        "id": "i5fiIX1dycjX"
      },
      "execution_count": 102,
      "outputs": []
    }
  ]
}